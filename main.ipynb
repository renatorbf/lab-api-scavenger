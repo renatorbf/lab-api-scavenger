{
  "nbformat": 4,
  "nbformat_minor": 0,
  "metadata": {
    "colab": {
      "name": "Untitled28.ipynb",
      "provenance": [],
      "authorship_tag": "ABX9TyMtAIh+tkFeJcD6/tG/W9q/"
    },
    "kernelspec": {
      "name": "python3",
      "display_name": "Python 3"
    },
    "language_info": {
      "name": "python"
    }
  },
  "cells": [
    {
      "cell_type": "code",
      "execution_count": 10,
      "metadata": {
        "id": "eGwQKDwwD6d_"
      },
      "outputs": [],
      "source": [
        "import pandas as pd\n",
        "import requests \n",
        "import json\n",
        "import getpass\n",
        "\n",
        "from requests.auth import HTTPBasicAuth"
      ]
    },
    {
      "cell_type": "code",
      "source": [
        "url = 'https://api.github.com/user'"
      ],
      "metadata": {
        "id": "JmnI7yWioNS-"
      },
      "execution_count": 11,
      "outputs": []
    },
    {
      "cell_type": "code",
      "source": [
        "key = getpass.getpass()"
      ],
      "metadata": {
        "id": "pHpOJe4WyoVq",
        "outputId": "9e9d541a-72f3-4c97-9c47-9e5f133d9e7a",
        "colab": {
          "base_uri": "https://localhost:8080/"
        }
      },
      "execution_count": 7,
      "outputs": [
        {
          "name": "stdout",
          "output_type": "stream",
          "text": [
            "··········\n"
          ]
        }
      ]
    },
    {
      "cell_type": "code",
      "source": [
        ""
      ],
      "metadata": {
        "id": "YpqCgcqe4vy5"
      },
      "execution_count": null,
      "outputs": []
    },
    {
      "cell_type": "code",
      "source": [
        "response = requests.get(url, auth= HTTPBasicAuth('renatorbf', key))"
      ],
      "metadata": {
        "id": "SsqBYktlqOHn"
      },
      "execution_count": 12,
      "outputs": []
    },
    {
      "cell_type": "code",
      "source": [
        "response.status_code"
      ],
      "metadata": {
        "id": "0Z07tEHiqU_s",
        "outputId": "9473fdcf-08d7-4fd3-ad89-4a0a8718a740",
        "colab": {
          "base_uri": "https://localhost:8080/"
        }
      },
      "execution_count": 13,
      "outputs": [
        {
          "output_type": "execute_result",
          "data": {
            "text/plain": [
              "200"
            ]
          },
          "metadata": {},
          "execution_count": 13
        }
      ]
    },
    {
      "cell_type": "code",
      "source": [
        ""
      ],
      "metadata": {
        "id": "eCvdsJ9_6DEV"
      },
      "execution_count": null,
      "outputs": []
    }
  ]
}