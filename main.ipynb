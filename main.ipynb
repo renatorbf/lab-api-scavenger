{
  "nbformat": 4,
  "nbformat_minor": 0,
  "metadata": {
    "colab": {
      "name": "Untitled28.ipynb",
      "provenance": [],
      "authorship_tag": "ABX9TyOtcBtwSFAg8nzT0HMztv0p"
    },
    "kernelspec": {
      "name": "python3",
      "display_name": "Python 3"
    },
    "language_info": {
      "name": "python"
    }
  },
  "cells": [
    {
      "cell_type": "code",
      "execution_count": 8,
      "metadata": {
        "id": "eGwQKDwwD6d_"
      },
      "outputs": [],
      "source": [
        "import pandas as pd\n",
        "import requests \n",
        "import json\n",
        "import getpass\n",
        "\n",
        "from requests.auth import HTTPBasicAuth"
      ]
    },
    {
      "cell_type": "code",
      "source": [
        "url = 'https://api.github.com/repos/ta-data-lis/Bayesian-Statistics'"
      ],
      "metadata": {
        "id": "JmnI7yWioNS-"
      },
      "execution_count": 14,
      "outputs": []
    },
    {
      "cell_type": "code",
      "source": [
        "key = getpass.getpass()"
      ],
      "metadata": {
        "id": "pHpOJe4WyoVq",
        "outputId": "9db87d79-f1bf-4e4f-dced-7c53c8533702",
        "colab": {
          "base_uri": "https://localhost:8080/"
        }
      },
      "execution_count": 10,
      "outputs": [
        {
          "name": "stdout",
          "output_type": "stream",
          "text": [
            "··········\n"
          ]
        }
      ]
    },
    {
      "cell_type": "code",
      "source": [
        ""
      ],
      "metadata": {
        "id": "YpqCgcqe4vy5"
      },
      "execution_count": 10,
      "outputs": []
    },
    {
      "cell_type": "code",
      "source": [
        "response = requests.get(url, auth= HTTPBasicAuth('renatorbf', key))"
      ],
      "metadata": {
        "id": "SsqBYktlqOHn"
      },
      "execution_count": 30,
      "outputs": []
    },
    {
      "cell_type": "code",
      "source": [
        "response.status_code"
      ],
      "metadata": {
        "id": "0Z07tEHiqU_s",
        "outputId": "57b2c541-7d2c-4494-9d99-eab924d0dd23",
        "colab": {
          "base_uri": "https://localhost:8080/"
        }
      },
      "execution_count": 31,
      "outputs": [
        {
          "output_type": "execute_result",
          "data": {
            "text/plain": [
              "200"
            ]
          },
          "metadata": {},
          "execution_count": 31
        }
      ]
    },
    {
      "cell_type": "code",
      "source": [
        "response.json()"
      ],
      "metadata": {
        "id": "eCvdsJ9_6DEV",
        "outputId": "f117e9a4-34ff-4eca-be63-b3006111f4e9",
        "colab": {
          "base_uri": "https://localhost:8080/"
        }
      },
      "execution_count": 32,
      "outputs": [
        {
          "output_type": "execute_result",
          "data": {
            "text/plain": [
              "{'allow_forking': True,\n",
              " 'archive_url': 'https://api.github.com/repos/ta-data-lis/Bayesian-Statistics/{archive_format}{/ref}',\n",
              " 'archived': False,\n",
              " 'assignees_url': 'https://api.github.com/repos/ta-data-lis/Bayesian-Statistics/assignees{/user}',\n",
              " 'blobs_url': 'https://api.github.com/repos/ta-data-lis/Bayesian-Statistics/git/blobs{/sha}',\n",
              " 'branches_url': 'https://api.github.com/repos/ta-data-lis/Bayesian-Statistics/branches{/branch}',\n",
              " 'clone_url': 'https://github.com/ta-data-lis/Bayesian-Statistics.git',\n",
              " 'collaborators_url': 'https://api.github.com/repos/ta-data-lis/Bayesian-Statistics/collaborators{/collaborator}',\n",
              " 'comments_url': 'https://api.github.com/repos/ta-data-lis/Bayesian-Statistics/comments{/number}',\n",
              " 'commits_url': 'https://api.github.com/repos/ta-data-lis/Bayesian-Statistics/commits{/sha}',\n",
              " 'compare_url': 'https://api.github.com/repos/ta-data-lis/Bayesian-Statistics/compare/{base}...{head}',\n",
              " 'contents_url': 'https://api.github.com/repos/ta-data-lis/Bayesian-Statistics/contents/{+path}',\n",
              " 'contributors_url': 'https://api.github.com/repos/ta-data-lis/Bayesian-Statistics/contributors',\n",
              " 'created_at': '2020-11-18T13:05:54Z',\n",
              " 'default_branch': 'main',\n",
              " 'deployments_url': 'https://api.github.com/repos/ta-data-lis/Bayesian-Statistics/deployments',\n",
              " 'description': None,\n",
              " 'disabled': False,\n",
              " 'downloads_url': 'https://api.github.com/repos/ta-data-lis/Bayesian-Statistics/downloads',\n",
              " 'events_url': 'https://api.github.com/repos/ta-data-lis/Bayesian-Statistics/events',\n",
              " 'fork': False,\n",
              " 'forks': 2,\n",
              " 'forks_count': 2,\n",
              " 'forks_url': 'https://api.github.com/repos/ta-data-lis/Bayesian-Statistics/forks',\n",
              " 'full_name': 'ta-data-lis/Bayesian-Statistics',\n",
              " 'git_commits_url': 'https://api.github.com/repos/ta-data-lis/Bayesian-Statistics/git/commits{/sha}',\n",
              " 'git_refs_url': 'https://api.github.com/repos/ta-data-lis/Bayesian-Statistics/git/refs{/sha}',\n",
              " 'git_tags_url': 'https://api.github.com/repos/ta-data-lis/Bayesian-Statistics/git/tags{/sha}',\n",
              " 'git_url': 'git://github.com/ta-data-lis/Bayesian-Statistics.git',\n",
              " 'has_downloads': True,\n",
              " 'has_issues': True,\n",
              " 'has_pages': False,\n",
              " 'has_projects': True,\n",
              " 'has_wiki': True,\n",
              " 'homepage': None,\n",
              " 'hooks_url': 'https://api.github.com/repos/ta-data-lis/Bayesian-Statistics/hooks',\n",
              " 'html_url': 'https://github.com/ta-data-lis/Bayesian-Statistics',\n",
              " 'id': 313937127,\n",
              " 'is_template': False,\n",
              " 'issue_comment_url': 'https://api.github.com/repos/ta-data-lis/Bayesian-Statistics/issues/comments{/number}',\n",
              " 'issue_events_url': 'https://api.github.com/repos/ta-data-lis/Bayesian-Statistics/issues/events{/number}',\n",
              " 'issues_url': 'https://api.github.com/repos/ta-data-lis/Bayesian-Statistics/issues{/number}',\n",
              " 'keys_url': 'https://api.github.com/repos/ta-data-lis/Bayesian-Statistics/keys{/key_id}',\n",
              " 'labels_url': 'https://api.github.com/repos/ta-data-lis/Bayesian-Statistics/labels{/name}',\n",
              " 'language': 'Jupyter Notebook',\n",
              " 'languages_url': 'https://api.github.com/repos/ta-data-lis/Bayesian-Statistics/languages',\n",
              " 'license': None,\n",
              " 'merges_url': 'https://api.github.com/repos/ta-data-lis/Bayesian-Statistics/merges',\n",
              " 'milestones_url': 'https://api.github.com/repos/ta-data-lis/Bayesian-Statistics/milestones{/number}',\n",
              " 'mirror_url': None,\n",
              " 'name': 'Bayesian-Statistics',\n",
              " 'network_count': 2,\n",
              " 'node_id': 'MDEwOlJlcG9zaXRvcnkzMTM5MzcxMjc=',\n",
              " 'notifications_url': 'https://api.github.com/repos/ta-data-lis/Bayesian-Statistics/notifications{?since,all,participating}',\n",
              " 'open_issues': 0,\n",
              " 'open_issues_count': 0,\n",
              " 'owner': {'avatar_url': 'https://avatars.githubusercontent.com/u/54109907?v=4',\n",
              "  'events_url': 'https://api.github.com/users/ta-data-lis/events{/privacy}',\n",
              "  'followers_url': 'https://api.github.com/users/ta-data-lis/followers',\n",
              "  'following_url': 'https://api.github.com/users/ta-data-lis/following{/other_user}',\n",
              "  'gists_url': 'https://api.github.com/users/ta-data-lis/gists{/gist_id}',\n",
              "  'gravatar_id': '',\n",
              "  'html_url': 'https://github.com/ta-data-lis',\n",
              "  'id': 54109907,\n",
              "  'login': 'ta-data-lis',\n",
              "  'node_id': 'MDQ6VXNlcjU0MTA5OTA3',\n",
              "  'organizations_url': 'https://api.github.com/users/ta-data-lis/orgs',\n",
              "  'received_events_url': 'https://api.github.com/users/ta-data-lis/received_events',\n",
              "  'repos_url': 'https://api.github.com/users/ta-data-lis/repos',\n",
              "  'site_admin': False,\n",
              "  'starred_url': 'https://api.github.com/users/ta-data-lis/starred{/owner}{/repo}',\n",
              "  'subscriptions_url': 'https://api.github.com/users/ta-data-lis/subscriptions',\n",
              "  'type': 'User',\n",
              "  'url': 'https://api.github.com/users/ta-data-lis'},\n",
              " 'permissions': {'admin': False,\n",
              "  'maintain': False,\n",
              "  'pull': True,\n",
              "  'push': False,\n",
              "  'triage': False},\n",
              " 'private': False,\n",
              " 'pulls_url': 'https://api.github.com/repos/ta-data-lis/Bayesian-Statistics/pulls{/number}',\n",
              " 'pushed_at': '2020-11-18T13:11:53Z',\n",
              " 'releases_url': 'https://api.github.com/repos/ta-data-lis/Bayesian-Statistics/releases{/id}',\n",
              " 'size': 3,\n",
              " 'ssh_url': 'git@github.com:ta-data-lis/Bayesian-Statistics.git',\n",
              " 'stargazers_count': 0,\n",
              " 'stargazers_url': 'https://api.github.com/repos/ta-data-lis/Bayesian-Statistics/stargazers',\n",
              " 'statuses_url': 'https://api.github.com/repos/ta-data-lis/Bayesian-Statistics/statuses/{sha}',\n",
              " 'subscribers_count': 1,\n",
              " 'subscribers_url': 'https://api.github.com/repos/ta-data-lis/Bayesian-Statistics/subscribers',\n",
              " 'subscription_url': 'https://api.github.com/repos/ta-data-lis/Bayesian-Statistics/subscription',\n",
              " 'svn_url': 'https://github.com/ta-data-lis/Bayesian-Statistics',\n",
              " 'tags_url': 'https://api.github.com/repos/ta-data-lis/Bayesian-Statistics/tags',\n",
              " 'teams_url': 'https://api.github.com/repos/ta-data-lis/Bayesian-Statistics/teams',\n",
              " 'temp_clone_token': '',\n",
              " 'topics': [],\n",
              " 'trees_url': 'https://api.github.com/repos/ta-data-lis/Bayesian-Statistics/git/trees{/sha}',\n",
              " 'updated_at': '2020-11-18T13:11:56Z',\n",
              " 'url': 'https://api.github.com/repos/ta-data-lis/Bayesian-Statistics',\n",
              " 'visibility': 'public',\n",
              " 'watchers': 0,\n",
              " 'watchers_count': 0}"
            ]
          },
          "metadata": {},
          "execution_count": 32
        }
      ]
    },
    {
      "cell_type": "code",
      "source": [
        "# here we got access to the forks and forks_url"
      ],
      "metadata": {
        "id": "sk_oGRhBzVNs"
      },
      "execution_count": 18,
      "outputs": []
    },
    {
      "cell_type": "code",
      "source": [
        "rj = response.json()"
      ],
      "metadata": {
        "id": "QZVQ7_vMzfC6"
      },
      "execution_count": 33,
      "outputs": []
    },
    {
      "cell_type": "code",
      "source": [
        "forks = rj['forks']"
      ],
      "metadata": {
        "id": "OGjKGKRZ1DjV"
      },
      "execution_count": 34,
      "outputs": []
    },
    {
      "cell_type": "code",
      "source": [
        "print('this repo has ' + str(forks) + ' forks')"
      ],
      "metadata": {
        "id": "U15Pv2YI1JIQ",
        "outputId": "c06a32c3-5c1e-4eaf-b693-aa084b2795ce",
        "colab": {
          "base_uri": "https://localhost:8080/"
        }
      },
      "execution_count": 36,
      "outputs": [
        {
          "output_type": "stream",
          "name": "stdout",
          "text": [
            "this repo has 2 forks\n"
          ]
        }
      ]
    },
    {
      "cell_type": "code",
      "source": [
        "forks_url = rj['forks_url']"
      ],
      "metadata": {
        "id": "xEIeoSqq0fi6"
      },
      "execution_count": 37,
      "outputs": []
    },
    {
      "cell_type": "code",
      "source": [
        "forks_url"
      ],
      "metadata": {
        "id": "ayFO7LT91h4N",
        "outputId": "0b404d07-c76e-42ad-9071-95c125edab48",
        "colab": {
          "base_uri": "https://localhost:8080/",
          "height": 35
        }
      },
      "execution_count": 42,
      "outputs": [
        {
          "output_type": "execute_result",
          "data": {
            "application/vnd.google.colaboratory.intrinsic+json": {
              "type": "string"
            },
            "text/plain": [
              "'https://api.github.com/repos/ta-data-lis/Bayesian-Statistics/forks'"
            ]
          },
          "metadata": {},
          "execution_count": 42
        }
      ]
    },
    {
      "cell_type": "code",
      "source": [
        "response = requests.get(forks_url, auth= HTTPBasicAuth('renatorbf', key))"
      ],
      "metadata": {
        "id": "F5WPKkQl0lNQ"
      },
      "execution_count": 38,
      "outputs": []
    },
    {
      "cell_type": "code",
      "source": [
        "response.status_code"
      ],
      "metadata": {
        "id": "YrRz9F0A0xGI",
        "outputId": "ea272de6-3808-472f-e8fa-5df64b8b8f67",
        "colab": {
          "base_uri": "https://localhost:8080/"
        }
      },
      "execution_count": 39,
      "outputs": [
        {
          "output_type": "execute_result",
          "data": {
            "text/plain": [
              "200"
            ]
          },
          "metadata": {},
          "execution_count": 39
        }
      ]
    },
    {
      "cell_type": "code",
      "source": [
        "rj_forks = response.json()"
      ],
      "metadata": {
        "id": "JRvZfs160zk-"
      },
      "execution_count": 40,
      "outputs": []
    },
    {
      "cell_type": "code",
      "source": [
        "rj_forks"
      ],
      "metadata": {
        "id": "pOjmbPOg03oE",
        "outputId": "16dd8bab-c216-4282-c820-046cca174e51",
        "colab": {
          "base_uri": "https://localhost:8080/"
        }
      },
      "execution_count": 41,
      "outputs": [
        {
          "output_type": "execute_result",
          "data": {
            "text/plain": [
              "[{'allow_forking': True,\n",
              "  'archive_url': 'https://api.github.com/repos/renatorbf/Bayesian-Statistics/{archive_format}{/ref}',\n",
              "  'archived': False,\n",
              "  'assignees_url': 'https://api.github.com/repos/renatorbf/Bayesian-Statistics/assignees{/user}',\n",
              "  'blobs_url': 'https://api.github.com/repos/renatorbf/Bayesian-Statistics/git/blobs{/sha}',\n",
              "  'branches_url': 'https://api.github.com/repos/renatorbf/Bayesian-Statistics/branches{/branch}',\n",
              "  'clone_url': 'https://github.com/renatorbf/Bayesian-Statistics.git',\n",
              "  'collaborators_url': 'https://api.github.com/repos/renatorbf/Bayesian-Statistics/collaborators{/collaborator}',\n",
              "  'comments_url': 'https://api.github.com/repos/renatorbf/Bayesian-Statistics/comments{/number}',\n",
              "  'commits_url': 'https://api.github.com/repos/renatorbf/Bayesian-Statistics/commits{/sha}',\n",
              "  'compare_url': 'https://api.github.com/repos/renatorbf/Bayesian-Statistics/compare/{base}...{head}',\n",
              "  'contents_url': 'https://api.github.com/repos/renatorbf/Bayesian-Statistics/contents/{+path}',\n",
              "  'contributors_url': 'https://api.github.com/repos/renatorbf/Bayesian-Statistics/contributors',\n",
              "  'created_at': '2021-12-01T11:34:25Z',\n",
              "  'default_branch': 'main',\n",
              "  'deployments_url': 'https://api.github.com/repos/renatorbf/Bayesian-Statistics/deployments',\n",
              "  'description': None,\n",
              "  'disabled': False,\n",
              "  'downloads_url': 'https://api.github.com/repos/renatorbf/Bayesian-Statistics/downloads',\n",
              "  'events_url': 'https://api.github.com/repos/renatorbf/Bayesian-Statistics/events',\n",
              "  'fork': True,\n",
              "  'forks': 0,\n",
              "  'forks_count': 0,\n",
              "  'forks_url': 'https://api.github.com/repos/renatorbf/Bayesian-Statistics/forks',\n",
              "  'full_name': 'renatorbf/Bayesian-Statistics',\n",
              "  'git_commits_url': 'https://api.github.com/repos/renatorbf/Bayesian-Statistics/git/commits{/sha}',\n",
              "  'git_refs_url': 'https://api.github.com/repos/renatorbf/Bayesian-Statistics/git/refs{/sha}',\n",
              "  'git_tags_url': 'https://api.github.com/repos/renatorbf/Bayesian-Statistics/git/tags{/sha}',\n",
              "  'git_url': 'git://github.com/renatorbf/Bayesian-Statistics.git',\n",
              "  'has_downloads': True,\n",
              "  'has_issues': False,\n",
              "  'has_pages': False,\n",
              "  'has_projects': True,\n",
              "  'has_wiki': True,\n",
              "  'homepage': None,\n",
              "  'hooks_url': 'https://api.github.com/repos/renatorbf/Bayesian-Statistics/hooks',\n",
              "  'html_url': 'https://github.com/renatorbf/Bayesian-Statistics',\n",
              "  'id': 433801143,\n",
              "  'is_template': False,\n",
              "  'issue_comment_url': 'https://api.github.com/repos/renatorbf/Bayesian-Statistics/issues/comments{/number}',\n",
              "  'issue_events_url': 'https://api.github.com/repos/renatorbf/Bayesian-Statistics/issues/events{/number}',\n",
              "  'issues_url': 'https://api.github.com/repos/renatorbf/Bayesian-Statistics/issues{/number}',\n",
              "  'keys_url': 'https://api.github.com/repos/renatorbf/Bayesian-Statistics/keys{/key_id}',\n",
              "  'labels_url': 'https://api.github.com/repos/renatorbf/Bayesian-Statistics/labels{/name}',\n",
              "  'language': 'Jupyter Notebook',\n",
              "  'languages_url': 'https://api.github.com/repos/renatorbf/Bayesian-Statistics/languages',\n",
              "  'license': None,\n",
              "  'merges_url': 'https://api.github.com/repos/renatorbf/Bayesian-Statistics/merges',\n",
              "  'milestones_url': 'https://api.github.com/repos/renatorbf/Bayesian-Statistics/milestones{/number}',\n",
              "  'mirror_url': None,\n",
              "  'name': 'Bayesian-Statistics',\n",
              "  'node_id': 'R_kgDOGdtHtw',\n",
              "  'notifications_url': 'https://api.github.com/repos/renatorbf/Bayesian-Statistics/notifications{?since,all,participating}',\n",
              "  'open_issues': 0,\n",
              "  'open_issues_count': 0,\n",
              "  'owner': {'avatar_url': 'https://avatars.githubusercontent.com/u/72876070?v=4',\n",
              "   'events_url': 'https://api.github.com/users/renatorbf/events{/privacy}',\n",
              "   'followers_url': 'https://api.github.com/users/renatorbf/followers',\n",
              "   'following_url': 'https://api.github.com/users/renatorbf/following{/other_user}',\n",
              "   'gists_url': 'https://api.github.com/users/renatorbf/gists{/gist_id}',\n",
              "   'gravatar_id': '',\n",
              "   'html_url': 'https://github.com/renatorbf',\n",
              "   'id': 72876070,\n",
              "   'login': 'renatorbf',\n",
              "   'node_id': 'MDQ6VXNlcjcyODc2MDcw',\n",
              "   'organizations_url': 'https://api.github.com/users/renatorbf/orgs',\n",
              "   'received_events_url': 'https://api.github.com/users/renatorbf/received_events',\n",
              "   'repos_url': 'https://api.github.com/users/renatorbf/repos',\n",
              "   'site_admin': False,\n",
              "   'starred_url': 'https://api.github.com/users/renatorbf/starred{/owner}{/repo}',\n",
              "   'subscriptions_url': 'https://api.github.com/users/renatorbf/subscriptions',\n",
              "   'type': 'User',\n",
              "   'url': 'https://api.github.com/users/renatorbf'},\n",
              "  'permissions': {'admin': True,\n",
              "   'maintain': True,\n",
              "   'pull': True,\n",
              "   'push': True,\n",
              "   'triage': True},\n",
              "  'private': False,\n",
              "  'pulls_url': 'https://api.github.com/repos/renatorbf/Bayesian-Statistics/pulls{/number}',\n",
              "  'pushed_at': '2021-12-02T16:32:49Z',\n",
              "  'releases_url': 'https://api.github.com/repos/renatorbf/Bayesian-Statistics/releases{/id}',\n",
              "  'size': 44,\n",
              "  'ssh_url': 'git@github.com:renatorbf/Bayesian-Statistics.git',\n",
              "  'stargazers_count': 0,\n",
              "  'stargazers_url': 'https://api.github.com/repos/renatorbf/Bayesian-Statistics/stargazers',\n",
              "  'statuses_url': 'https://api.github.com/repos/renatorbf/Bayesian-Statistics/statuses/{sha}',\n",
              "  'subscribers_url': 'https://api.github.com/repos/renatorbf/Bayesian-Statistics/subscribers',\n",
              "  'subscription_url': 'https://api.github.com/repos/renatorbf/Bayesian-Statistics/subscription',\n",
              "  'svn_url': 'https://github.com/renatorbf/Bayesian-Statistics',\n",
              "  'tags_url': 'https://api.github.com/repos/renatorbf/Bayesian-Statistics/tags',\n",
              "  'teams_url': 'https://api.github.com/repos/renatorbf/Bayesian-Statistics/teams',\n",
              "  'topics': [],\n",
              "  'trees_url': 'https://api.github.com/repos/renatorbf/Bayesian-Statistics/git/trees{/sha}',\n",
              "  'updated_at': '2021-12-02T16:32:52Z',\n",
              "  'url': 'https://api.github.com/repos/renatorbf/Bayesian-Statistics',\n",
              "  'visibility': 'public',\n",
              "  'watchers': 0,\n",
              "  'watchers_count': 0},\n",
              " {'allow_forking': True,\n",
              "  'archive_url': 'https://api.github.com/repos/marisafernandes86/Bayesian-Statistics/{archive_format}{/ref}',\n",
              "  'archived': False,\n",
              "  'assignees_url': 'https://api.github.com/repos/marisafernandes86/Bayesian-Statistics/assignees{/user}',\n",
              "  'blobs_url': 'https://api.github.com/repos/marisafernandes86/Bayesian-Statistics/git/blobs{/sha}',\n",
              "  'branches_url': 'https://api.github.com/repos/marisafernandes86/Bayesian-Statistics/branches{/branch}',\n",
              "  'clone_url': 'https://github.com/marisafernandes86/Bayesian-Statistics.git',\n",
              "  'collaborators_url': 'https://api.github.com/repos/marisafernandes86/Bayesian-Statistics/collaborators{/collaborator}',\n",
              "  'comments_url': 'https://api.github.com/repos/marisafernandes86/Bayesian-Statistics/comments{/number}',\n",
              "  'commits_url': 'https://api.github.com/repos/marisafernandes86/Bayesian-Statistics/commits{/sha}',\n",
              "  'compare_url': 'https://api.github.com/repos/marisafernandes86/Bayesian-Statistics/compare/{base}...{head}',\n",
              "  'contents_url': 'https://api.github.com/repos/marisafernandes86/Bayesian-Statistics/contents/{+path}',\n",
              "  'contributors_url': 'https://api.github.com/repos/marisafernandes86/Bayesian-Statistics/contributors',\n",
              "  'created_at': '2020-11-22T12:19:44Z',\n",
              "  'default_branch': 'main',\n",
              "  'deployments_url': 'https://api.github.com/repos/marisafernandes86/Bayesian-Statistics/deployments',\n",
              "  'description': None,\n",
              "  'disabled': False,\n",
              "  'downloads_url': 'https://api.github.com/repos/marisafernandes86/Bayesian-Statistics/downloads',\n",
              "  'events_url': 'https://api.github.com/repos/marisafernandes86/Bayesian-Statistics/events',\n",
              "  'fork': True,\n",
              "  'forks': 0,\n",
              "  'forks_count': 0,\n",
              "  'forks_url': 'https://api.github.com/repos/marisafernandes86/Bayesian-Statistics/forks',\n",
              "  'full_name': 'marisafernandes86/Bayesian-Statistics',\n",
              "  'git_commits_url': 'https://api.github.com/repos/marisafernandes86/Bayesian-Statistics/git/commits{/sha}',\n",
              "  'git_refs_url': 'https://api.github.com/repos/marisafernandes86/Bayesian-Statistics/git/refs{/sha}',\n",
              "  'git_tags_url': 'https://api.github.com/repos/marisafernandes86/Bayesian-Statistics/git/tags{/sha}',\n",
              "  'git_url': 'git://github.com/marisafernandes86/Bayesian-Statistics.git',\n",
              "  'has_downloads': True,\n",
              "  'has_issues': False,\n",
              "  'has_pages': False,\n",
              "  'has_projects': True,\n",
              "  'has_wiki': True,\n",
              "  'homepage': None,\n",
              "  'hooks_url': 'https://api.github.com/repos/marisafernandes86/Bayesian-Statistics/hooks',\n",
              "  'html_url': 'https://github.com/marisafernandes86/Bayesian-Statistics',\n",
              "  'id': 315030484,\n",
              "  'is_template': False,\n",
              "  'issue_comment_url': 'https://api.github.com/repos/marisafernandes86/Bayesian-Statistics/issues/comments{/number}',\n",
              "  'issue_events_url': 'https://api.github.com/repos/marisafernandes86/Bayesian-Statistics/issues/events{/number}',\n",
              "  'issues_url': 'https://api.github.com/repos/marisafernandes86/Bayesian-Statistics/issues{/number}',\n",
              "  'keys_url': 'https://api.github.com/repos/marisafernandes86/Bayesian-Statistics/keys{/key_id}',\n",
              "  'labels_url': 'https://api.github.com/repos/marisafernandes86/Bayesian-Statistics/labels{/name}',\n",
              "  'language': None,\n",
              "  'languages_url': 'https://api.github.com/repos/marisafernandes86/Bayesian-Statistics/languages',\n",
              "  'license': None,\n",
              "  'merges_url': 'https://api.github.com/repos/marisafernandes86/Bayesian-Statistics/merges',\n",
              "  'milestones_url': 'https://api.github.com/repos/marisafernandes86/Bayesian-Statistics/milestones{/number}',\n",
              "  'mirror_url': None,\n",
              "  'name': 'Bayesian-Statistics',\n",
              "  'node_id': 'MDEwOlJlcG9zaXRvcnkzMTUwMzA0ODQ=',\n",
              "  'notifications_url': 'https://api.github.com/repos/marisafernandes86/Bayesian-Statistics/notifications{?since,all,participating}',\n",
              "  'open_issues': 0,\n",
              "  'open_issues_count': 0,\n",
              "  'owner': {'avatar_url': 'https://avatars.githubusercontent.com/u/72134775?v=4',\n",
              "   'events_url': 'https://api.github.com/users/marisafernandes86/events{/privacy}',\n",
              "   'followers_url': 'https://api.github.com/users/marisafernandes86/followers',\n",
              "   'following_url': 'https://api.github.com/users/marisafernandes86/following{/other_user}',\n",
              "   'gists_url': 'https://api.github.com/users/marisafernandes86/gists{/gist_id}',\n",
              "   'gravatar_id': '',\n",
              "   'html_url': 'https://github.com/marisafernandes86',\n",
              "   'id': 72134775,\n",
              "   'login': 'marisafernandes86',\n",
              "   'node_id': 'MDQ6VXNlcjcyMTM0Nzc1',\n",
              "   'organizations_url': 'https://api.github.com/users/marisafernandes86/orgs',\n",
              "   'received_events_url': 'https://api.github.com/users/marisafernandes86/received_events',\n",
              "   'repos_url': 'https://api.github.com/users/marisafernandes86/repos',\n",
              "   'site_admin': False,\n",
              "   'starred_url': 'https://api.github.com/users/marisafernandes86/starred{/owner}{/repo}',\n",
              "   'subscriptions_url': 'https://api.github.com/users/marisafernandes86/subscriptions',\n",
              "   'type': 'User',\n",
              "   'url': 'https://api.github.com/users/marisafernandes86'},\n",
              "  'permissions': {'admin': False,\n",
              "   'maintain': False,\n",
              "   'pull': True,\n",
              "   'push': False,\n",
              "   'triage': False},\n",
              "  'private': False,\n",
              "  'pulls_url': 'https://api.github.com/repos/marisafernandes86/Bayesian-Statistics/pulls{/number}',\n",
              "  'pushed_at': '2020-11-18T13:11:53Z',\n",
              "  'releases_url': 'https://api.github.com/repos/marisafernandes86/Bayesian-Statistics/releases{/id}',\n",
              "  'size': 3,\n",
              "  'ssh_url': 'git@github.com:marisafernandes86/Bayesian-Statistics.git',\n",
              "  'stargazers_count': 0,\n",
              "  'stargazers_url': 'https://api.github.com/repos/marisafernandes86/Bayesian-Statistics/stargazers',\n",
              "  'statuses_url': 'https://api.github.com/repos/marisafernandes86/Bayesian-Statistics/statuses/{sha}',\n",
              "  'subscribers_url': 'https://api.github.com/repos/marisafernandes86/Bayesian-Statistics/subscribers',\n",
              "  'subscription_url': 'https://api.github.com/repos/marisafernandes86/Bayesian-Statistics/subscription',\n",
              "  'svn_url': 'https://github.com/marisafernandes86/Bayesian-Statistics',\n",
              "  'tags_url': 'https://api.github.com/repos/marisafernandes86/Bayesian-Statistics/tags',\n",
              "  'teams_url': 'https://api.github.com/repos/marisafernandes86/Bayesian-Statistics/teams',\n",
              "  'topics': [],\n",
              "  'trees_url': 'https://api.github.com/repos/marisafernandes86/Bayesian-Statistics/git/trees{/sha}',\n",
              "  'updated_at': '2020-11-22T12:19:45Z',\n",
              "  'url': 'https://api.github.com/repos/marisafernandes86/Bayesian-Statistics',\n",
              "  'visibility': 'public',\n",
              "  'watchers': 0,\n",
              "  'watchers_count': 0}]"
            ]
          },
          "metadata": {},
          "execution_count": 41
        }
      ]
    },
    {
      "cell_type": "code",
      "source": [
        "type(rj_forks)\n",
        "\n",
        "# this is the lsit of forks -> rj_forks"
      ],
      "metadata": {
        "id": "LOUhp2pf05vy",
        "outputId": "ed00c1b1-83f5-48ee-e892-0dd83fe477e2",
        "colab": {
          "base_uri": "https://localhost:8080/"
        }
      },
      "execution_count": 47,
      "outputs": [
        {
          "output_type": "execute_result",
          "data": {
            "text/plain": [
              "list"
            ]
          },
          "metadata": {},
          "execution_count": 47
        }
      ]
    },
    {
      "cell_type": "code",
      "source": [
        "# looping for the language key"
      ],
      "metadata": {
        "id": "YrAVUDht27bN"
      },
      "execution_count": null,
      "outputs": []
    },
    {
      "cell_type": "code",
      "source": [
        "list_of_languages = []\n",
        "for fork in rj_forks:\n",
        "  list_of_languages.append(fork['language'])\n",
        "\n",
        "list_of_languages = set(list_of_languages)\n",
        "list_of_languages\n"
      ],
      "metadata": {
        "id": "gvkaXk3U3HEJ",
        "outputId": "90066d04-351e-42f8-d254-7ae967ead2a2",
        "colab": {
          "base_uri": "https://localhost:8080/"
        }
      },
      "execution_count": 55,
      "outputs": [
        {
          "output_type": "execute_result",
          "data": {
            "text/plain": [
              "{'Jupyter Notebook', None}"
            ]
          },
          "metadata": {},
          "execution_count": 55
        }
      ]
    },
    {
      "cell_type": "code",
      "source": [
        "# challenge 2"
      ],
      "metadata": {
        "id": "hd0c3_SF25ER"
      },
      "execution_count": 56,
      "outputs": []
    },
    {
      "cell_type": "code",
      "source": [
        "commits_url = rj['commits_url']"
      ],
      "metadata": {
        "id": "fBjhg_Yi4Yda"
      },
      "execution_count": 61,
      "outputs": []
    },
    {
      "cell_type": "code",
      "source": [
        "commits_url"
      ],
      "metadata": {
        "id": "I_hp_hER-6ea",
        "outputId": "28e528fa-f884-4210-e74e-3dbb42cb5aa6",
        "colab": {
          "base_uri": "https://localhost:8080/",
          "height": 35
        }
      },
      "execution_count": 62,
      "outputs": [
        {
          "output_type": "execute_result",
          "data": {
            "application/vnd.google.colaboratory.intrinsic+json": {
              "type": "string"
            },
            "text/plain": [
              "'https://api.github.com/repos/ta-data-lis/Bayesian-Statistics/commits{/sha}'"
            ]
          },
          "metadata": {},
          "execution_count": 62
        }
      ]
    },
    {
      "cell_type": "code",
      "source": [
        "commits_url = 'https://api.github.com/repos/ta-data-lis/Bayesian-Statistics/commits' #later investigate /sha"
      ],
      "metadata": {
        "id": "7dUQzjg7_nnj"
      },
      "execution_count": 64,
      "outputs": []
    },
    {
      "cell_type": "code",
      "source": [
        "response = requests.get(commits_url, auth= HTTPBasicAuth('renatorbf', key))"
      ],
      "metadata": {
        "id": "duKp-cNC-wWR"
      },
      "execution_count": 65,
      "outputs": []
    },
    {
      "cell_type": "code",
      "source": [
        "response.status_code"
      ],
      "metadata": {
        "id": "HbW9y8vs-1Wf",
        "outputId": "d264cfe6-8d07-4a13-b63d-bcefd21c8389",
        "colab": {
          "base_uri": "https://localhost:8080/"
        }
      },
      "execution_count": 66,
      "outputs": [
        {
          "output_type": "execute_result",
          "data": {
            "text/plain": [
              "200"
            ]
          },
          "metadata": {},
          "execution_count": 66
        }
      ]
    },
    {
      "cell_type": "code",
      "source": [
        "type(response.json()) # this is a list of commits"
      ],
      "metadata": {
        "id": "B2NMhWur-3bE",
        "outputId": "bfd9ef44-7f36-42d3-f473-f6c03844ae81",
        "colab": {
          "base_uri": "https://localhost:8080/"
        }
      },
      "execution_count": 69,
      "outputs": [
        {
          "output_type": "execute_result",
          "data": {
            "text/plain": [
              "list"
            ]
          },
          "metadata": {},
          "execution_count": 69
        }
      ]
    },
    {
      "cell_type": "code",
      "source": [
        "len(response.json())\n",
        "# there are 2 commits"
      ],
      "metadata": {
        "id": "UuikBIcL__IV",
        "outputId": "81043557-0955-4436-89c3-6e515ae9a341",
        "colab": {
          "base_uri": "https://localhost:8080/"
        }
      },
      "execution_count": 73,
      "outputs": [
        {
          "output_type": "execute_result",
          "data": {
            "text/plain": [
              "2"
            ]
          },
          "metadata": {},
          "execution_count": 73
        }
      ]
    },
    {
      "cell_type": "code",
      "source": [
        ""
      ],
      "metadata": {
        "id": "sGwIIzsoAQxF"
      },
      "execution_count": null,
      "outputs": []
    }
  ]
}